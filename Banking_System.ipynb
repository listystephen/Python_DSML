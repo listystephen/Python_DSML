{
 "cells": [
  {
   "cell_type": "code",
   "execution_count": 13,
   "id": "2ad25953-106d-4e64-9d46-d402338cebe1",
   "metadata": {},
   "outputs": [
    {
     "name": "stdout",
     "output_type": "stream",
     "text": [
      "\n",
      "Welcome to the Banking System\n",
      "1. Create Account\n",
      "2. Login\n",
      "3. Exit\n"
     ]
    },
    {
     "name": "stdin",
     "output_type": "stream",
     "text": [
      "Enter your choice:  1\n",
      "Enter your name:  Alice John\n",
      "Enter a new account number:  1234567\n",
      "Set a 4-digit PIN:  4321\n"
     ]
    },
    {
     "name": "stdout",
     "output_type": "stream",
     "text": [
      "Account created successfully.\n",
      "\n",
      "Welcome to the Banking System\n",
      "1. Create Account\n",
      "2. Login\n",
      "3. Exit\n"
     ]
    },
    {
     "name": "stdin",
     "output_type": "stream",
     "text": [
      "Enter your choice:  1\n",
      "Enter your name:  samson\n",
      "Enter a new account number:  7654321\n",
      "Set a 4-digit PIN:  1234\n"
     ]
    },
    {
     "name": "stdout",
     "output_type": "stream",
     "text": [
      "Account created successfully.\n",
      "\n",
      "Welcome to the Banking System\n",
      "1. Create Account\n",
      "2. Login\n",
      "3. Exit\n"
     ]
    },
    {
     "name": "stdin",
     "output_type": "stream",
     "text": [
      "Enter your choice:  2\n",
      "Enter your account number:  7654321\n",
      "Enter your PIN:  1234\n"
     ]
    },
    {
     "name": "stdout",
     "output_type": "stream",
     "text": [
      "Welcome, samson!\n",
      "\n",
      "Account Menu\n",
      "1. Deposit Amount\n",
      "2. Withdraw Amount\n",
      "3. Check Balance\n",
      "4. View Transaction History\n",
      "5. Logout\n"
     ]
    },
    {
     "name": "stdin",
     "output_type": "stream",
     "text": [
      "Enter your choice:  1\n",
      "Enter amount to deposit:  1200000\n"
     ]
    },
    {
     "name": "stdout",
     "output_type": "stream",
     "text": [
      "₹1200000.00 deposited successfully. Current Balance: ₹1200000.00\n",
      "\n",
      "Account Menu\n",
      "1. Deposit Amount\n",
      "2. Withdraw Amount\n",
      "3. Check Balance\n",
      "4. View Transaction History\n",
      "5. Logout\n"
     ]
    },
    {
     "name": "stdin",
     "output_type": "stream",
     "text": [
      "Enter your choice:  2\n",
      "Enter amount to withdraw:  5000\n"
     ]
    },
    {
     "name": "stdout",
     "output_type": "stream",
     "text": [
      "₹5000.00 withdrawn successfully. Current Balance: ₹1195000.00\n",
      "\n",
      "Account Menu\n",
      "1. Deposit Amount\n",
      "2. Withdraw Amount\n",
      "3. Check Balance\n",
      "4. View Transaction History\n",
      "5. Logout\n"
     ]
    },
    {
     "name": "stdin",
     "output_type": "stream",
     "text": [
      "Enter your choice:  3\n"
     ]
    },
    {
     "name": "stdout",
     "output_type": "stream",
     "text": [
      "Current Balance: ₹1195000.00\n",
      "\n",
      "Account Menu\n",
      "1. Deposit Amount\n",
      "2. Withdraw Amount\n",
      "3. Check Balance\n",
      "4. View Transaction History\n",
      "5. Logout\n"
     ]
    },
    {
     "name": "stdin",
     "output_type": "stream",
     "text": [
      "Enter your choice:  2\n",
      "Enter amount to withdraw:  1234\n"
     ]
    },
    {
     "name": "stdout",
     "output_type": "stream",
     "text": [
      "₹1234.00 withdrawn successfully. Current Balance: ₹1193766.00\n",
      "\n",
      "Account Menu\n",
      "1. Deposit Amount\n",
      "2. Withdraw Amount\n",
      "3. Check Balance\n",
      "4. View Transaction History\n",
      "5. Logout\n"
     ]
    },
    {
     "name": "stdin",
     "output_type": "stream",
     "text": [
      "Enter your choice:  3\n"
     ]
    },
    {
     "name": "stdout",
     "output_type": "stream",
     "text": [
      "Current Balance: ₹1193766.00\n",
      "\n",
      "Account Menu\n",
      "1. Deposit Amount\n",
      "2. Withdraw Amount\n",
      "3. Check Balance\n",
      "4. View Transaction History\n",
      "5. Logout\n"
     ]
    },
    {
     "name": "stdin",
     "output_type": "stream",
     "text": [
      "Enter your choice:  4\n"
     ]
    },
    {
     "name": "stdout",
     "output_type": "stream",
     "text": [
      "Transaction History:\n",
      "2024-11-21 13:37:29 - Deposited: ₹1200000.00\n",
      "2024-11-21 13:37:36 - Withdrawn: ₹5000.00\n",
      "2024-11-21 13:38:01 - Withdrawn: ₹1234.00\n",
      "\n",
      "Account Menu\n",
      "1. Deposit Amount\n",
      "2. Withdraw Amount\n",
      "3. Check Balance\n",
      "4. View Transaction History\n",
      "5. Logout\n"
     ]
    },
    {
     "name": "stdin",
     "output_type": "stream",
     "text": [
      "Enter your choice:  5\n"
     ]
    },
    {
     "name": "stdout",
     "output_type": "stream",
     "text": [
      "Logging out...\n",
      "\n",
      "Welcome to the Banking System\n",
      "1. Create Account\n",
      "2. Login\n",
      "3. Exit\n"
     ]
    },
    {
     "name": "stdin",
     "output_type": "stream",
     "text": [
      "Enter your choice:  3\n"
     ]
    },
    {
     "name": "stdout",
     "output_type": "stream",
     "text": [
      "Thank you for using the Banking System.\n"
     ]
    }
   ],
   "source": [
    "import sys\n",
    "from datetime import datetime\n",
    "\n",
    "\n",
    "class BankAccount:\n",
    "    def __init__(self, account_number, name, pin):\n",
    "        self.account_number = account_number\n",
    "        self.name = name\n",
    "        self.pin = pin\n",
    "        self.balance = 0.0\n",
    "        self.transactions = []\n",
    "\n",
    "    def deposit(self, amount):\n",
    "        if amount > 0:\n",
    "            self.balance += amount\n",
    "            self.transactions.append((datetime.now(), f\"Deposited: ₹{amount:.2f}\"))\n",
    "            print(f\"₹{amount:.2f} deposited successfully. Current Balance: ₹{self.balance:.2f}\")\n",
    "        else:\n",
    "            print(\"Deposit amount must be positive.\")\n",
    "\n",
    "    def withdraw(self, amount):\n",
    "        if amount > 0:\n",
    "            if self.balance >= amount:\n",
    "                self.balance -= amount\n",
    "                self.transactions.append((datetime.now(), f\"Withdrawn: ₹{amount:.2f}\"))\n",
    "                print(f\"₹{amount:.2f} withdrawn successfully. Current Balance: ₹{self.balance:.2f}\")\n",
    "            else:\n",
    "                print(\"Insufficient balance.\")\n",
    "        else:\n",
    "            print(\"Withdrawal amount must be positive.\")\n",
    "\n",
    "    def check_balance(self):\n",
    "        print(f\"Current Balance: ₹{self.balance:.2f}\")\n",
    "\n",
    "    def view_transaction_history(self):\n",
    "        print(\"Transaction History:\")\n",
    "        if not self.transactions:\n",
    "            print(\"No transactions yet.\")\n",
    "        else:\n",
    "            for date, transaction in self.transactions:\n",
    "                print(f\"{date.strftime('%Y-%m-%d %H:%M:%S')} - {transaction}\")\n",
    "\n",
    "\n",
    "\n",
    "class BankingSystem:\n",
    "    def __init__(self):\n",
    "        self.accounts = {}\n",
    "\n",
    "    def create_account(self):\n",
    "        name = input(\"Enter your name: \")\n",
    "        account_number = input(\"Enter a new account number: \")\n",
    "        if account_number in self.accounts:\n",
    "            print(\"Account number already exists. Try again.\")\n",
    "            return\n",
    "        pin = input(\"Set a 4-digit PIN: \")\n",
    "        if len(pin) != 4 or not pin.isdigit():\n",
    "            print(\"PIN must be a 4-digit number.\")\n",
    "            return\n",
    "        self.accounts[account_number] = BankAccount(account_number, name, pin)\n",
    "        print(\"Account created successfully.\")\n",
    "\n",
    "    def login(self):\n",
    "        account_number = input(\"Enter your account number: \")\n",
    "        if account_number not in self.accounts:\n",
    "            print(\"Account not found. Try again.\")\n",
    "            return None\n",
    "        pin = input(\"Enter your PIN: \")\n",
    "        if self.accounts[account_number].pin != pin:\n",
    "            print(\"Invalid PIN. Try again.\")\n",
    "            return None\n",
    "        print(f\"Welcome, {self.accounts[account_number].name}!\")\n",
    "        return self.accounts[account_number]\n",
    "\n",
    "    def run(self):\n",
    "        while True:\n",
    "            print(\"\\nWelcome to the Banking System\")\n",
    "            print(\"1. Create Account\")\n",
    "            print(\"2. Login\")\n",
    "            print(\"3. Exit\")\n",
    "            choice = input(\"Enter your choice: \")\n",
    "\n",
    "            if choice == \"1\":\n",
    "                self.create_account()\n",
    "            elif choice == \"2\":\n",
    "                account = self.login()\n",
    "                if account:\n",
    "                    self.account_menu(account)\n",
    "            elif choice == \"3\":\n",
    "                print(\"Thank you for using the Banking System.\")\n",
    "                break\n",
    "            else:\n",
    "                print(\"Invalid choice. Please try again.\")\n",
    "\n",
    "    def account_menu(self, account):\n",
    "        while True:\n",
    "            print(\"\\nAccount Menu\")\n",
    "            print(\"1. Deposit Amount\")\n",
    "            print(\"2. Withdraw Amount\")\n",
    "            print(\"3. Check Balance\")\n",
    "            print(\"4. View Transaction History\")\n",
    "            print(\"5. Logout\")\n",
    "            choice = input(\"Enter your choice: \")\n",
    "\n",
    "            if choice == \"1\":\n",
    "                amount = float(input(\"Enter amount to deposit: \"))\n",
    "                account.deposit(amount)\n",
    "            elif choice == \"2\":\n",
    "                amount = float(input(\"Enter amount to withdraw: \"))\n",
    "                account.withdraw(amount)\n",
    "            elif choice == \"3\":\n",
    "                account.check_balance()\n",
    "            elif choice == \"4\":\n",
    "                account.view_transaction_history()\n",
    "            elif choice == \"5\":\n",
    "                print(\"Logging out...\")\n",
    "                break\n",
    "            else:\n",
    "                print(\"Invalid choice. Please try again.\")\n",
    "\n",
    "\n",
    "if __name__ == \"__main__\":\n",
    "    banking_system = BankingSystem()\n",
    "    banking_system.run()\n"
   ]
  },
  {
   "cell_type": "markdown",
   "id": "79d9bcb1-a397-428a-85ae-a24d6c30c871",
   "metadata": {},
   "source": []
  }
 ],
 "metadata": {
  "kernelspec": {
   "display_name": "Python 3 (ipykernel)",
   "language": "python",
   "name": "python3"
  },
  "language_info": {
   "codemirror_mode": {
    "name": "ipython",
    "version": 3
   },
   "file_extension": ".py",
   "mimetype": "text/x-python",
   "name": "python",
   "nbconvert_exporter": "python",
   "pygments_lexer": "ipython3",
   "version": "3.12.4"
  }
 },
 "nbformat": 4,
 "nbformat_minor": 5
}
